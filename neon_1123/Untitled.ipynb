{
 "cells": [
  {
   "cell_type": "code",
   "execution_count": 1,
   "metadata": {},
   "outputs": [],
   "source": [
    "%matplotlib widget\n",
    "%matplotlib inline\n",
    "from IPython.display import HTML\n",
    "\n",
    "import numpy as np\n",
    "from scipy.spatial.distance import pdist, squareform\n",
    "\n",
    "import matplotlib.pyplot as plt\n",
    "import scipy.integrate as integrate\n",
    "import matplotlib.animation as animation\n",
    "import pandas as pd\n",
    "\n",
    "\"get xy position of nth frame of file df. i: the marker i\"\n",
    "def get_markerpos_of(df, i, n = 0):\n",
    "    return np.asarray([df.iat[n,xat[i]], df.iat[n, yat(i)]], dtype=\"float\")\n",
    "\n",
    "def get_pos_of_alljoints(dfS, k, n = 0):\n",
    "    \n",
    "    alljoints = []\n",
    "    \"in file dfS, choose a specific motion k\"\n",
    "    \"get nth frame\"\n",
    "    for j in range(0, 11):\n",
    "        alljoints.append(get_markerpos_of(dfS[k], j+1, n))\n",
    "    \n",
    "    alljoints = np.asarray(alljoints, dtype=\"float\")\n",
    "    return alljoints"
   ]
  },
  {
   "cell_type": "code",
   "execution_count": null,
   "metadata": {},
   "outputs": [],
   "source": []
  }
 ],
 "metadata": {
  "kernelspec": {
   "display_name": "Python 3",
   "language": "python",
   "name": "python3"
  },
  "language_info": {
   "codemirror_mode": {
    "name": "ipython",
    "version": 3
   },
   "file_extension": ".py",
   "mimetype": "text/x-python",
   "name": "python",
   "nbconvert_exporter": "python",
   "pygments_lexer": "ipython3",
   "version": "3.8.3"
  }
 },
 "nbformat": 4,
 "nbformat_minor": 4
}
