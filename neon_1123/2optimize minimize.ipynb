{
 "cells": [
  {
   "cell_type": "code",
   "execution_count": 1,
   "id": "39ae103e",
   "metadata": {},
   "outputs": [],
   "source": [
    "import numpy as np\n",
    "import pandas as pd\n",
    "from matplotlib import pyplot as plt\n",
    "from math import *\n",
    "import random\n",
    "from cycler import cycler\n",
    "from sklearn.decomposition import PCA\n",
    "import matplotlib.collections as collections\n",
    "\n",
    "import plotly\n",
    "import copy"
   ]
  },
  {
   "cell_type": "code",
   "execution_count": 2,
   "id": "fd2d4e31",
   "metadata": {},
   "outputs": [],
   "source": [
    "filenumber = 10\n",
    "dfgroup = pd.DataFrame()\n",
    "sepoint = [0]\n",
    "pd.options.display.max_columns=1000"
   ]
  },
  {
   "cell_type": "code",
   "execution_count": 3,
   "id": "51178db1",
   "metadata": {},
   "outputs": [],
   "source": [
    "from blgc import pick_up_episode, episodes, columnname\n",
    "from blgc import blgc_model, blgc_model_slice\n",
    "from blgc import get_error, get_errordf\n",
    "from blgc import gradient_descent\n",
    "col_joints_only = ['m1x','m1y','m2x','m2y','m3x','m3y','m4x','m4y','m5x','m5y','m6x','m6y','m7x','m7y','m8x','m8y','m9x','m9y','m10x','m10y','m11x','m11y']"
   ]
  },
  {
   "cell_type": "code",
   "execution_count": 4,
   "id": "7afb0ede",
   "metadata": {},
   "outputs": [],
   "source": [
    "\"constants\"\n",
    "ppc = np.load('w_synergy.npy')\n",
    "mean = np.load('mean.npy')\n",
    "link_average = np.load('linklength.npy')\n",
    "\n",
    "filenumber = 10\n",
    "mknumber =11\n",
    "\n",
    "\"load projections dataframes\"\n",
    "\"dfS is the projections of dataframes\"\n",
    "\"dfU is the reference angle\" \n",
    "\n",
    "dfS = [[]]*filenumber\n",
    "dfU = [[]]*filenumber\n",
    "\"angle info before optimization\"\n",
    "angle_results_before = [[]]*filenumber\n",
    "\n",
    "\"angle reference: estimated angles from human data\"\n",
    "angle_reference = [[]]*filenumber\n",
    "\n",
    "\"import data\"\n",
    "for i in range(filenumber):\n",
    "    dfS[i] = pd.read_csv('dataimport/projections/projM'+str(i+1)+'.csv')\n",
    "    dfU[i] = pd.read_csv('dataimport/jointangle/ja'+str(i+1)+'.csv')\n",
    "    angle_results_before[i] = np.dot(dfS[i], ppc) + mean\n",
    "    angle_reference[i] = dfU[i]\n",
    "    \n"
   ]
  },
  {
   "cell_type": "code",
   "execution_count": 5,
   "id": "304d5d3e",
   "metadata": {},
   "outputs": [],
   "source": [
    "def error_function_every_head(proj_h):\n",
    "    tmp_dot = np.dot(proj_h, ppc[0:2])\n",
    "    tmp_idf = blgc_model_slice(pd.DataFrame(np.reshape(tmp_dot+mean,(1,6)), columns = columnname))\n",
    "    \n",
    "    \"get error frame sample\"\n",
    "    tmp_errdf = tmp_idf - blgc_model_slice(REF_IN_EVERY)\n",
    "    \n",
    "    err_frames = tmp_errdf.loc[:, col_joints_only]\n",
    "    \n",
    "    err = get_errordf(err_frames)\n",
    "#     print(err)\n",
    "\n",
    "    return err[7]\n",
    "\n",
    "\"proj_h: projection value , need pickup\"\n",
    "\"syn_input: synergy input (before), need pickup from angle_results_before\"\n",
    "\"ref_input: reference input, need pickup from angle_reference\"\n",
    "def error_function(proj_h):\n",
    "    tmp_dot = np.dot(proj_h, ppc[0:2])\n",
    "    tmp_idf = blgc_model(pd.DataFrame(np.reshape(tmp_dot+mean,(len(proj_h),6)), columns = columnname))\n",
    "    \n",
    "    \"get error frame sample\"\n",
    "    tmp_errdf = tmp_idf - blgc_model(REF_INPUT)\n",
    "    err_frames = errdf_xy.loc[:, col_joints_only]\n",
    "    \n",
    "    err = get_errordf(err_frames)\n",
    "    \n",
    "    \"try:sum\"\n",
    "    sum_err = err.sum(axis = 1)\n",
    "    \n",
    "    arrayout = np.asarray(sum_err)\n",
    "    \n",
    "    return arrayout\n",
    "\n",
    "\"proj_h: projection value , need pickup\"\n",
    "\"syn_input: synergy input (before), need pickup from angle_results_before\"\n",
    "\"ref_input: reference input, need pickup from angle_reference\"\n",
    "def error_function_every(proj_h):\n",
    "    tmp_dot = np.dot(proj_h, ppc[0:2])\n",
    "    tmp_idf = blgc_model_slice(pd.DataFrame(np.reshape(tmp_dot+mean,(1,6)), columns = columnname))\n",
    "    \n",
    "    \"get error frame sample\"\n",
    "    tmp_errdf = tmp_idf - blgc_model_slice(REF_IN_EVERY)\n",
    "    \n",
    "    err_frames = tmp_errdf.loc[:, col_joints_only]\n",
    "    \n",
    "    err = get_errordf(err_frames)\n",
    "#     print(err)\n",
    "    \"try:sum\"\n",
    "    sum_err = err.sum(axis = 1)\n",
    "    \n",
    "    arrayout = np.asarray(sum_err)\n",
    "    \n",
    "    return sum_err[0]"
   ]
  },
  {
   "cell_type": "code",
   "execution_count": 13,
   "id": "18551d67",
   "metadata": {
    "tags": []
   },
   "outputs": [
    {
     "name": "stdout",
     "output_type": "stream",
     "text": [
      "PC1   -1.312659\n",
      "PC2   -0.105460\n",
      "Name: 0, dtype: float64\n"
     ]
    }
   ],
   "source": [
    "\"for every Motion\"\n",
    "import time\n",
    "starttime = time.time()\n",
    "\n",
    "mn=2\n",
    "epn=0\n",
    "\n",
    "proj = pick_up_episode(mn+1,epn,dfS).loc[:,[\"PC1\",\"PC2\"]]\n",
    "syn = pick_up_episode(mn+1,epn,angle_results_before)\n",
    "REF_INPUT = pick_up_episode(mn+1,epn,angle_reference)\n",
    "\n",
    "\n",
    "\"TAKES LONG TIME: SGD MAIN PROGRAM OF CASE:consider all errors of all joints\"\n",
    "newprojections = []\n",
    "error_before_list = []\n",
    "error_after_list = []\n",
    "\n",
    "for idx in range(1):\n",
    "    pflag = episodes[mn][0][0]\n",
    "    \"gradient descent every for 500 times\"\n",
    "    \n",
    "    if(idx == 0):\n",
    "        d = proj.loc[episodes[mn][epn][0]+idx-pflag]\n",
    "    elif(idx != 0):\n",
    "        d = copy.copy(check)\n",
    "    print(d)\n",
    "    \n",
    "    REF_IN_EVERY = pick_up_episode(mn+1,epn,angle_reference).loc[episodes[mn][epn][0]+idx-pflag]\n",
    "    # print(REF_IN_EVERY)\n",
    "    \n",
    "    \n",
    "    bef_err = error_function_every(d)\n",
    "\n",
    "    error_before_list.append(bef_err)\n",
    "\n",
    "    check = gradient_descent(error_function_every, init_x = d, lr = 0.01, step_num = 100)\n",
    "    aft_err = error_function_every(check)\n",
    "\n",
    "    error_after_list.append(aft_err)\n",
    "\n",
    "    newprojections.append(check)\n",
    "\n",
    "    endtime = time.time()\n",
    "    if idx%10==1:\n",
    "        \n",
    "        print(str(idx)+\"of\"+str(len(proj)), \"eclipsed time: \"+ str(starttime-endtime) + \"s.\")\n",
    "\n",
    "\"save result\"\n",
    "result_case_alljoints = pd.DataFrame(np.asarray(newprojections), columns=['PC1','PC2'])\n",
    "tmp_result_a = np.dot(result_case_alljoints, ppc[0:2])+mean\n",
    "tmp_result_df = pd.DataFrame(tmp_result_a, columns = columnname)\n",
    "\n",
    "resultdf_case_alljoints = blgc_model(pd.DataFrame(tmp_result_a, columns = columnname))\n",
    "result_error_before = pd.DataFrame(error_before_list)\n",
    "result_error_after = pd.DataFrame(error_after_list)        \n",
    "\n",
    "tmp_result_df.to_csv('optimization_result/SGD/angleall_'+str(mn)+'-'+str(epn)+'.csv', index = False)\n",
    "resultdf_case_alljoints.to_csv('optimization_result/SGD/Oallj_'+str(mn)+'-'+str(epn)+'.csv', index = False)\n",
    "result_error_before.to_csv('optimization_result/SGD/error/Eoallbe_'+str(mn)+'-'+str(epn)+'.csv')\n",
    "result_error_after.to_csv('optimization_result/SGD/error/Eoallaf_'+str(mn)+'-'+str(epn)+'.csv')"
   ]
  },
  {
   "cell_type": "code",
   "execution_count": 14,
   "id": "ad1a8a0f",
   "metadata": {},
   "outputs": [
    {
     "name": "stdout",
     "output_type": "stream",
     "text": [
      "[ 1.39681393  0.25285216 -0.20265926 -2.66010475 -0.6429916   0.35060086]\n"
     ]
    }
   ],
   "source": [
    "sample = np.dot(d, ppc[0:2])+mean\n",
    "print(sample)"
   ]
  },
  {
   "cell_type": "code",
   "execution_count": 15,
   "id": "50320f69",
   "metadata": {},
   "outputs": [],
   "source": [
    "\"cf_rigid2human\"\n",
    "\"\"\"\n",
    "change the coordinate frame of rigid cf\n",
    "There are 3 kinds of coordinate frames in this system\n",
    "rigid: the down to up rigids, default rigid vectors are one rigid up direction\n",
    "human: the human refered rigids, default vectors similar with human\n",
    "ortho: the orthogonal cf, default vectors are x axis\n",
    "This function change angles in rigid cf to human cf (deg standard).\n",
    "\n",
    "Example: \n",
    "tmp_jnt = array([ 1.06176579,  1.97969236, -2.10184021, -2.41810456, -0.63615721,\n",
    "        1.00675899])\n",
    "cf_rigid2human(tmp_jnt)\n",
    "out: array([ -29.16530117,  113.42801718, -120.42657349,   41.45281418,\n",
    "        -36.4491235 ,   57.68304114])\n",
    "\"\"\"\n",
    "def cf_rigid2human(in_jnt):\n",
    "    \"define a natural angle for each joint, deg, always is bias from startpos to natural\"\n",
    "    a_natural = np.asarray([-90, 0, 0, 180, 0, 0])\n",
    "    \"define a fasical direction, -1, 1\"\n",
    "    dir_fascia = np.asarray([1, 1, 1, 1, 1, 1])\n",
    "    \"\"\n",
    "    \"calibration to human-topology\"\n",
    "    rotated_jnts = (in_jnt*180/pi)+a_natural*dir_fascia\n",
    "    return rotated_jnts"
   ]
  },
  {
   "cell_type": "code",
   "execution_count": 16,
   "id": "d395afe9",
   "metadata": {},
   "outputs": [
    {
     "data": {
      "text/plain": [
       "array([-90.,   0.,   0., 180.,   0.,   0.])"
      ]
     },
     "execution_count": 16,
     "metadata": {},
     "output_type": "execute_result"
    }
   ],
   "source": [
    "cf_rigid2human(np.asarray([0,0,0,0,0,0]))"
   ]
  },
  {
   "cell_type": "code",
   "execution_count": 17,
   "id": "918d74dc",
   "metadata": {},
   "outputs": [],
   "source": [
    "def deg2rad(in_jnt):\n",
    "    return in_jnt/180*pi\n"
   ]
  },
  {
   "cell_type": "code",
   "execution_count": 18,
   "id": "04610520",
   "metadata": {},
   "outputs": [
    {
     "data": {
      "text/plain": [
       "array([-1.57079633,  0.        ,  0.        ,  3.14159265,  0.        ,\n",
       "        0.        ])"
      ]
     },
     "execution_count": 18,
     "metadata": {},
     "output_type": "execute_result"
    }
   ],
   "source": [
    "deg2rad(np.asarray([-90.,   0.,   0., 180.,   0.,   0.]))\n"
   ]
  },
  {
   "cell_type": "code",
   "execution_count": 27,
   "id": "22a89c91",
   "metadata": {},
   "outputs": [],
   "source": [
    "\"get xy position of nth frame of file df. i: the marker i\"\n",
    "numfile = 10\n",
    "nummarker = 11\n",
    "fileof = 0\n",
    "\n",
    "\"DICTIONARY xat: x position of marker i (key) at column k (value)\"\n",
    "xat = {\n",
    "    1:8,2:11,3:14,4:17,5:20,6:23,7:26,8:29,9:32,10:2,11:5\n",
    "}\n",
    "\"FUNCTION yat: y position of marker i at column k (xat+1)\"\n",
    "def yat(key):\n",
    "    return xat[key]+1\n",
    "def get_markerpos_of(df, i, n = 0):\n",
    "    return np.asarray([df.iat[n,xat[i]], df.iat[n, yat(i)]], dtype=\"float\")\n",
    "\n",
    "def get_pos_of_alljoints(dfS, n = 0):\n",
    "    \n",
    "    x = []\n",
    "    y = []\n",
    "    \"in file dfS, choose a specific motion k\"\n",
    "    \"get nth frame\"\n",
    "    for j in range(0, 11):\n",
    "        x.append(get_markerpos_of(dfS, j+1, n)[0])\n",
    "        y.append(get_markerpos_of(dfS, j+1, n)[1])\n",
    "    \n",
    "    x = np.asarray(x, dtype=\"float\")\n",
    "    y = np.asarray(y, dtype=\"float\")\n",
    "\n",
    "    return x,y\n",
    "def drawskeleton(df_angles):\n",
    "    skeleton = blgc_model_slice(df_angles)\n",
    "\n",
    "    a,b = get_pos_of_alljoints(skeleton)\n",
    "    fig = plt.figure()\n",
    "    fig.subplots_adjust(left=0, right=1, bottom=0, top=1)\n",
    "#     plt.axis('equal')\n",
    "    ax = fig.add_subplot(111, aspect='equal', autoscale_on=False,\n",
    "                         xlim=(-1.2, 1.2), ylim=(-0.4, 2))\n",
    "    ax = plt.scatter(a,b)\n",
    "    ax = plt.gca()\n",
    "    "
   ]
  },
  {
   "cell_type": "code",
   "execution_count": 48,
   "id": "a65c512f",
   "metadata": {},
   "outputs": [
    {
     "data": {
      "image/png": "[encoded data removed]",
      "text/plain": [
       "<Figure size 432x288 with 1 Axes>"
      ]
     },
     "metadata": {
      "needs_background": "light"
     },
     "output_type": "display_data"
    }
   ],
   "source": [
    "input_angle = [90,0,0,-180,0,0]\n",
    "# input_deg = deg2rad(np.asarray(input_angle))\n",
    "input_deg  = np.asarray([ 1.55897324,  0.72932609, -2.22291071, -1.89583754, -0.84427175,\n",
    "        0.58565826])  # use this when use deg input\n",
    "tst = pd.DataFrame([input_deg])\n",
    "# tst.transpose(a)\n",
    "columnname = list(tmp_result_df.columns)\n",
    "tst.columns=columnname\n",
    "drawskeleton(tst)"
   ]
  },
  {
   "cell_type": "markdown",
   "id": "e9b3d588",
   "metadata": {},
   "source": [
    "#### column"
   ]
  },
  {
   "cell_type": "code",
   "execution_count": 38,
   "id": "65567f9a",
   "metadata": {},
   "outputs": [],
   "source": [
    "weight = np.load('w_synergy.npy')"
   ]
  },
  {
   "cell_type": "code",
   "execution_count": 47,
   "id": "6eb1bff7",
   "metadata": {},
   "outputs": [
    {
     "data": {
      "text/plain": [
       "array([ 1.55897324,  0.72932609, -2.22291071, -1.89583754, -0.84427175,\n",
       "        0.58565826])"
      ]
     },
     "execution_count": 47,
     "metadata": {},
     "output_type": "execute_result"
    }
   ],
   "source": [
    "mean+np.dot(np.array([1,1,0,0,0,0]),weight)"
   ]
  },
  {
   "cell_type": "code",
   "execution_count": 45,
   "id": "2e5673b2",
   "metadata": {},
   "outputs": [],
   "source": [
    "mean = np.load('mean.npy')"
   ]
  },
  {
   "cell_type": "code",
   "execution_count": 46,
   "id": "b2c5efd1-6c3f-4019-a17b-b727312fd12e",
   "metadata": {},
   "outputs": [
    {
     "data": {
      "text/plain": [
       "array([ 1.32044059,  0.80127069, -0.98230249, -2.50097405, -0.66478617,\n",
       "        0.5653576 ])"
      ]
     },
     "execution_count": 46,
     "metadata": {},
     "output_type": "execute_result"
    }
   ],
   "source": []
  },
  {
   "cell_type": "code",
   "execution_count": null,
   "id": "0a18d970-8eaa-4052-86ee-a8632ab2785e",
   "metadata": {},
   "outputs": [],
   "source": []
  }
 ],
 "metadata": {
  "kernelspec": {
   "display_name": "Python 3",
   "language": "python",
   "name": "python3"
  },
  "language_info": {
   "codemirror_mode": {
    "name": "ipython",
    "version": 3
   },
   "file_extension": ".py",
   "mimetype": "text/x-python",
   "name": "python",
   "nbconvert_exporter": "python",
   "pygments_lexer": "ipython3",
   "version": "3.8.8"
  }
 },
 "nbformat": 4,
 "nbformat_minor": 5
}
