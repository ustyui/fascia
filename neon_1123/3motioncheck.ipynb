{
 "cells": [
  {
   "cell_type": "code",
   "execution_count": 6,
   "id": "13092d02",
   "metadata": {},
   "outputs": [],
   "source": [
    "%matplotlib widget\n",
    "%matplotlib inline\n",
    "from IPython.display import HTML\n",
    "\n",
    "import numpy as np\n",
    "from scipy.spatial.distance import pdist, squareform\n",
    "\n",
    "import matplotlib.pyplot as plt\n",
    "import scipy.integrate as integrate\n",
    "import matplotlib.animation as animation\n",
    "import pandas as pd"
   ]
  },
  {
   "cell_type": "code",
   "execution_count": 7,
   "id": "62fb4d48",
   "metadata": {},
   "outputs": [],
   "source": [
    "\"load reference data from other files\"\n",
    "\"link length\"\n",
    "link_length = np.load('linklength.npy')"
   ]
  },
  {
   "cell_type": "code",
   "execution_count": 8,
   "id": "bf59a124",
   "metadata": {},
   "outputs": [],
   "source": [
    "numfile = 10\n",
    "nummarker = 11\n",
    "fileof = 0\n",
    "\n",
    "\"DICTIONARY xat: x position of marker i (key) at column k (value)\"\n",
    "xat = {\n",
    "    1:8,2:11,3:14,4:17,5:20,6:23,7:26,8:29,9:32,10:2,11:5\n",
    "}\n",
    "\"FUNCTION yat: y position of marker i at column k (xat+1)\"\n",
    "def yat(key):\n",
    "    return xat[key]+1\n",
    "\n",
    "timestampS = [[]]*numfile\n",
    "dfS = [[]]*numfile\n"
   ]
  },
  {
   "cell_type": "code",
   "execution_count": 9,
   "id": "40930bdb",
   "metadata": {},
   "outputs": [],
   "source": [
    "\"get xy position of nth frame of file df. i: the marker i\"\n",
    "def get_markerpos_of(df, i, n = 0):\n",
    "    return np.asarray([df.iat[n,xat[i]], df.iat[n, yat(i)]], dtype=\"float\")\n",
    "\n",
    "def get_pos_of_alljoints(dfS, k, n = 0):\n",
    "    \n",
    "    alljoints = []\n",
    "    \"in file dfS, choose a specific motion k\"\n",
    "    \"get nth frame\"\n",
    "    for j in range(0, 11):\n",
    "        alljoints.append(get_markerpos_of(dfS[k], j+1, n))\n",
    "    \n",
    "    alljoints = np.asarray(alljoints, dtype=\"float\")\n",
    "    return alljoints\n",
    "        \n",
    "    "
   ]
  },
  {
   "cell_type": "code",
   "execution_count": 10,
   "id": "8a78f482",
   "metadata": {},
   "outputs": [],
   "source": [
    "class BioMotion:\n",
    "    \"\"\"\n",
    "    Biological Motion class\n",
    "    \n",
    "    init_state is an [N x 3] array, where N is the number of joints:\n",
    "    [[x1, y1, type],\n",
    "     [x2, y2, type],\n",
    "     ...    ]\n",
    "     \n",
    "    dataframe is the dataframe we use.\n",
    "    index is the start frame of the motion.\n",
    "    whichmotion is the motion #n.\n",
    "    \"\"\"\n",
    "    def __init__(self,\n",
    "                 init_state = [[0, 0, 1],\n",
    "                               [0.5, 0.5, 1],\n",
    "                               [0.5, 1.0, 1]],\n",
    "                 dataframes = pd.DataFrame(),\n",
    "                 index = 1,\n",
    "                 whichmotion = 0):\n",
    "        self.init_state = np.asarray(init_state, dtype=float)\n",
    "        self.state = self.init_state.copy()\n",
    "        self.frame_elapsed = 0\n",
    "        self.index = index\n",
    "        self.dataframes = dataframes\n",
    "        self.whichmotion = whichmotion\n",
    "    def step(self, dn):\n",
    "        # self.state = np.random.rand(10,2)\n",
    "        \"next frame = index + dn\"\n",
    "        self.index = self.index + dn\n",
    "        if(self.index>=len(self.dataframes[self.whichmotion])):\n",
    "            self.index = self.index - 1\n",
    "        \"state := get postion of next frame\"\n",
    "        self.state = get_pos_of_alljoints(self.dataframes, self.whichmotion, self.index)\n",
    "    \n",
    "    def reset(self):\n",
    "        self.index = 0"
   ]
  },
  {
   "cell_type": "code",
   "execution_count": 11,
   "id": "030580be",
   "metadata": {},
   "outputs": [
    {
     "name": "stdout",
     "output_type": "stream",
     "text": [
      "The video is robot fascia for Mtallj1 is made.\n"
     ]
    },
    {
     "data": {
      "image/png": "[encoded data removed]",
      "text/plain": [
       "<Figure size 432x288 with 1 Axes>"
      ]
     },
     "metadata": {
      "needs_background": "light"
     },
     "output_type": "display_data"
    }
   ],
   "source": [
    "\"init: start frame index #n\"\n",
    "dfN = [[]]*numfile\n",
    "len(dfN)\n",
    "\n",
    "rn = 0\n",
    "\n",
    "dfN[rn] = pd.read_csv('optimization_result/SGD/Oallj_2-0.csv')\n",
    "\n",
    "idx = 0\n",
    "\"get position of n\"\n",
    "init_state = get_pos_of_alljoints(dfN, rn, idx)\n",
    "robot = BioMotion(init_state, dfN, idx, rn)\n",
    "robot.reset()\n",
    "\n",
    "\"set up figure and animation\"\n",
    "fig = plt.figure()\n",
    "fig.subplots_adjust(left=0, right=1, bottom=0, top=1)\n",
    "ax = fig.add_subplot(111, aspect='equal', autoscale_on=False,\n",
    "                     xlim=(-1.2, 1.2), ylim=(-0.4, 2.0))\n",
    "ax = plt.gca()\n",
    "\n",
    "\"set facecolor black\"\n",
    "ax.set_facecolor(\"black\")\n",
    "\n",
    "motions, = ax.plot([], [], 'bo', ms=5, c=\"white\")\n",
    "\n",
    "def init():\n",
    "    global robot\n",
    "    motions.set_data([], [])\n",
    "    return motions,\n",
    "\n",
    "def animate(i):\n",
    "    global robot, ax, fig\n",
    "\n",
    "    robot.step(1)\n",
    "    ms = 5\n",
    "    \"update pieces of the animation\"\n",
    "    motions.set_data(robot.state[:,0], robot.state[:,1])\n",
    "    motions.set_markersize(ms)\n",
    "\n",
    "    return motions,\n",
    "\n",
    "ani = animation.FuncAnimation(fig, animate, frames=len(dfN[rn]),\n",
    "                              interval=8.333, blit=True, init_func=init)\n",
    "\"interval = 8.33ms for reconstructing 120fps motion\"\n",
    "#     plt.show()\n",
    "\"This video is reconstructed motion from human angles\"\n",
    "ani.save('clips/SGD/robotm8'+str(rn+1)+'.mp4', fps=120, extra_args=['-vcodec', 'libx264'])\n",
    "\n",
    "print(\"The video is robot fascia for Mtallj\"+str(rn+1)+\" is made.\")"
   ]
  },
  {
   "cell_type": "code",
   "execution_count": null,
   "id": "a4e31355",
   "metadata": {},
   "outputs": [],
   "source": []
  }
 ],
 "metadata": {
  "kernelspec": {
   "display_name": "Python 3",
   "language": "python",
   "name": "python3"
  },
  "language_info": {
   "codemirror_mode": {
    "name": "ipython",
    "version": 3
   },
   "file_extension": ".py",
   "mimetype": "text/x-python",
   "name": "python",
   "nbconvert_exporter": "python",
   "pygments_lexer": "ipython3",
   "version": "3.8.8"
  }
 },
 "nbformat": 4,
 "nbformat_minor": 5
}
